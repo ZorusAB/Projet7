{
 "cells": [
  {
   "cell_type": "code",
   "execution_count": 1,
   "id": "6f7ea6e5",
   "metadata": {},
   "outputs": [],
   "source": [
    "import numpy as np\n",
    "import pandas as pd \n",
    "from sklearn.preprocessing import LabelEncoder\n",
    "import os\n",
    "import matplotlib.pyplot as plt\n",
    "import seaborn as sns\n",
    "import warnings\n",
    "warnings.filterwarnings('ignore')\n",
    "from sklearn.model_selection import GridSearchCV"
   ]
  },
  {
   "cell_type": "code",
   "execution_count": 2,
   "id": "a706b4b0",
   "metadata": {},
   "outputs": [],
   "source": [
    "#Modification des affichages de colonnes, lignes et largeurs de colonnes pour avoir un maximum d'information\n",
    "pd.set_option('display.max_columns', 200)\n",
    "pd.set_option('display.max_rows', 1000)\n",
    "pd.set_option('display.max_colwidth', None)"
   ]
  },
  {
   "cell_type": "code",
   "execution_count": 3,
   "id": "f4e19c4a",
   "metadata": {},
   "outputs": [],
   "source": [
    "train = pd.read_csv('train__bis_full_stack_final.csv', sep=\",\")"
   ]
  },
  {
   "cell_type": "code",
   "execution_count": 4,
   "id": "b31d2fd5",
   "metadata": {},
   "outputs": [
    {
     "data": {
      "text/plain": [
       "0         1\n",
       "1         0\n",
       "2         0\n",
       "3         0\n",
       "4         0\n",
       "         ..\n",
       "307506    0\n",
       "307507    0\n",
       "307508    0\n",
       "307509    1\n",
       "307510    0\n",
       "Name: TARGET, Length: 307511, dtype: int64"
      ]
     },
     "execution_count": 4,
     "metadata": {},
     "output_type": "execute_result"
    }
   ],
   "source": [
    "train['TARGET']"
   ]
  },
  {
   "cell_type": "code",
   "execution_count": 6,
   "id": "e6dbd2ba",
   "metadata": {},
   "outputs": [],
   "source": [
    "moy_streamlit = train.loc[train['TARGET']==0]"
   ]
  },
  {
   "cell_type": "code",
   "execution_count": 7,
   "id": "f1459268",
   "metadata": {},
   "outputs": [],
   "source": [
    "moy_streamlit = moy_streamlit[['EXT_SOURCE_2', 'EXT_SOURCE_3','Age_Client', 'DAYS_EMPLOYED','AMT_GOODS_PRICE', 'EXT_SOURCE_1',\n",
    "                              'DAYS_LAST_PHONE_CHANGE', 'MOY_PREV_DAYS_DECISION']]"
   ]
  },
  {
   "cell_type": "code",
   "execution_count": 9,
   "id": "8e9f9f8c",
   "metadata": {},
   "outputs": [
    {
     "data": {
      "text/plain": [
       "(282686, 8)"
      ]
     },
     "execution_count": 9,
     "metadata": {},
     "output_type": "execute_result"
    }
   ],
   "source": [
    "moy_streamlit.shape"
   ]
  },
  {
   "cell_type": "code",
   "execution_count": 1,
   "id": "672545d7",
   "metadata": {},
   "outputs": [],
   "source": [
    "liste_variable_impact = [\"EXT_SOURCE_2\", \"EXT_SOURCE_3\",\"Age_Client\", \"DAYS_EMPLOYED\",\"AMT_GOODS_PRICE\", \"EXT_SOURCE_1\",\n",
    "                              \"DAYS_LAST_PHONE_CHANGE\", \"MOY_PREV_DAYS_DECISION\"]"
   ]
  },
  {
   "cell_type": "code",
   "execution_count": 2,
   "id": "a3d96b47",
   "metadata": {},
   "outputs": [
    {
     "data": {
      "text/plain": [
       "['EXT_SOURCE_2',\n",
       " 'EXT_SOURCE_3',\n",
       " 'Age_Client',\n",
       " 'DAYS_EMPLOYED',\n",
       " 'AMT_GOODS_PRICE',\n",
       " 'EXT_SOURCE_1',\n",
       " 'DAYS_LAST_PHONE_CHANGE',\n",
       " 'MOY_PREV_DAYS_DECISION']"
      ]
     },
     "execution_count": 2,
     "metadata": {},
     "output_type": "execute_result"
    }
   ],
   "source": [
    "liste_variable_impact"
   ]
  },
  {
   "cell_type": "code",
   "execution_count": 42,
   "id": "d25b67ef",
   "metadata": {},
   "outputs": [],
   "source": [
    "with open('liste_variable_impact', 'wb') as f :\n",
    "    pickle.dump(liste_variable_impact, f)"
   ]
  },
  {
   "cell_type": "code",
   "execution_count": null,
   "id": "6ab33526",
   "metadata": {},
   "outputs": [],
   "source": []
  },
  {
   "cell_type": "code",
   "execution_count": 14,
   "id": "47a97929",
   "metadata": {},
   "outputs": [],
   "source": [
    "liste_variable_impact_moyenne = []"
   ]
  },
  {
   "cell_type": "code",
   "execution_count": 16,
   "id": "1d7f37f4",
   "metadata": {},
   "outputs": [],
   "source": [
    "for col in liste_variable_impact :\n",
    "    mean = moy_streamlit[col].mean()\n",
    "    liste_variable_impact_moyenne.append(mean)"
   ]
  },
  {
   "cell_type": "code",
   "execution_count": 17,
   "id": "66b1cce0",
   "metadata": {},
   "outputs": [
    {
     "data": {
      "text/plain": [
       "[0.6123628226573647,\n",
       " 0.5843107527074552,\n",
       " 0.4875522208079499,\n",
       " 0.872056678089449,\n",
       " 0.12524067456059115,\n",
       " 0.5208469259289565,\n",
       " 0.7725098978781935,\n",
       " 0.6855916721026817]"
      ]
     },
     "execution_count": 17,
     "metadata": {},
     "output_type": "execute_result"
    }
   ],
   "source": [
    "liste_variable_impact_moyenne"
   ]
  },
  {
   "cell_type": "code",
   "execution_count": 20,
   "id": "047c2f1f",
   "metadata": {},
   "outputs": [],
   "source": [
    "df_moyennes = pd.DataFrame(columns = liste_variable_impact)"
   ]
  },
  {
   "cell_type": "code",
   "execution_count": 28,
   "id": "87b442d5",
   "metadata": {},
   "outputs": [],
   "source": [
    "dictionnaire ={}"
   ]
  },
  {
   "cell_type": "code",
   "execution_count": 29,
   "id": "4978fc42",
   "metadata": {},
   "outputs": [
    {
     "name": "stdout",
     "output_type": "stream",
     "text": [
      "0 EXT_SOURCE_2\n",
      "1 EXT_SOURCE_3\n",
      "2 Age_Client\n",
      "3 DAYS_EMPLOYED\n",
      "4 AMT_GOODS_PRICE\n",
      "5 EXT_SOURCE_1\n",
      "6 DAYS_LAST_PHONE_CHANGE\n",
      "7 MOY_PREV_DAYS_DECISION\n"
     ]
    }
   ],
   "source": [
    "for counter, col in enumerate(liste_variable_impact) :\n",
    "    print(counter, col)"
   ]
  },
  {
   "cell_type": "code",
   "execution_count": 30,
   "id": "5754051e",
   "metadata": {},
   "outputs": [],
   "source": [
    "for counter, col in enumerate(liste_variable_impact) :\n",
    "    dictionnaire[col] = liste_variable_impact_moyenne[counter]"
   ]
  },
  {
   "cell_type": "code",
   "execution_count": 31,
   "id": "08692bd4",
   "metadata": {},
   "outputs": [
    {
     "data": {
      "text/plain": [
       "{'EXT_SOURCE_2': 0.6123628226573647,\n",
       " 'EXT_SOURCE_3': 0.5843107527074552,\n",
       " 'Age_Client': 0.4875522208079499,\n",
       " 'DAYS_EMPLOYED': 0.872056678089449,\n",
       " 'AMT_GOODS_PRICE': 0.12524067456059115,\n",
       " 'EXT_SOURCE_1': 0.5208469259289565,\n",
       " 'DAYS_LAST_PHONE_CHANGE': 0.7725098978781935,\n",
       " 'MOY_PREV_DAYS_DECISION': 0.6855916721026817}"
      ]
     },
     "execution_count": 31,
     "metadata": {},
     "output_type": "execute_result"
    }
   ],
   "source": [
    "dictionnaire"
   ]
  },
  {
   "cell_type": "code",
   "execution_count": 34,
   "id": "78742623",
   "metadata": {},
   "outputs": [],
   "source": [
    "df_moyenne = pd.DataFrame(dictionnaire, index =[0])"
   ]
  },
  {
   "cell_type": "code",
   "execution_count": 35,
   "id": "0138dae4",
   "metadata": {},
   "outputs": [
    {
     "data": {
      "text/html": [
       "<div>\n",
       "<style scoped>\n",
       "    .dataframe tbody tr th:only-of-type {\n",
       "        vertical-align: middle;\n",
       "    }\n",
       "\n",
       "    .dataframe tbody tr th {\n",
       "        vertical-align: top;\n",
       "    }\n",
       "\n",
       "    .dataframe thead th {\n",
       "        text-align: right;\n",
       "    }\n",
       "</style>\n",
       "<table border=\"1\" class=\"dataframe\">\n",
       "  <thead>\n",
       "    <tr style=\"text-align: right;\">\n",
       "      <th></th>\n",
       "      <th>EXT_SOURCE_2</th>\n",
       "      <th>EXT_SOURCE_3</th>\n",
       "      <th>Age_Client</th>\n",
       "      <th>DAYS_EMPLOYED</th>\n",
       "      <th>AMT_GOODS_PRICE</th>\n",
       "      <th>EXT_SOURCE_1</th>\n",
       "      <th>DAYS_LAST_PHONE_CHANGE</th>\n",
       "      <th>MOY_PREV_DAYS_DECISION</th>\n",
       "    </tr>\n",
       "  </thead>\n",
       "  <tbody>\n",
       "    <tr>\n",
       "      <th>0</th>\n",
       "      <td>0.612363</td>\n",
       "      <td>0.584311</td>\n",
       "      <td>0.487552</td>\n",
       "      <td>0.872057</td>\n",
       "      <td>0.125241</td>\n",
       "      <td>0.520847</td>\n",
       "      <td>0.77251</td>\n",
       "      <td>0.685592</td>\n",
       "    </tr>\n",
       "  </tbody>\n",
       "</table>\n",
       "</div>"
      ],
      "text/plain": [
       "   EXT_SOURCE_2  EXT_SOURCE_3  Age_Client  DAYS_EMPLOYED  AMT_GOODS_PRICE  \\\n",
       "0      0.612363      0.584311    0.487552       0.872057         0.125241   \n",
       "\n",
       "   EXT_SOURCE_1  DAYS_LAST_PHONE_CHANGE  MOY_PREV_DAYS_DECISION  \n",
       "0      0.520847                 0.77251                0.685592  "
      ]
     },
     "execution_count": 35,
     "metadata": {},
     "output_type": "execute_result"
    }
   ],
   "source": [
    "df_moyenne"
   ]
  },
  {
   "cell_type": "code",
   "execution_count": 55,
   "id": "44dedcbd",
   "metadata": {},
   "outputs": [
    {
     "data": {
      "text/plain": [
       "EXT_SOURCE_2              0.612363\n",
       "EXT_SOURCE_3              0.584311\n",
       "Age_Client                0.487552\n",
       "DAYS_EMPLOYED             0.872057\n",
       "AMT_GOODS_PRICE           0.125241\n",
       "EXT_SOURCE_1              0.520847\n",
       "DAYS_LAST_PHONE_CHANGE    0.772510\n",
       "MOY_PREV_DAYS_DECISION    0.685592\n",
       "Name: 0, dtype: float64"
      ]
     },
     "execution_count": 55,
     "metadata": {},
     "output_type": "execute_result"
    }
   ],
   "source": [
    "df_moyenne.iloc[0]"
   ]
  },
  {
   "cell_type": "code",
   "execution_count": 36,
   "id": "cded6841",
   "metadata": {},
   "outputs": [],
   "source": [
    "import pickle\n",
    "with open('moyennes', 'wb') as f :\n",
    "    pickle.dump(df_moyenne, f)"
   ]
  },
  {
   "cell_type": "code",
   "execution_count": 37,
   "id": "5c321df7",
   "metadata": {},
   "outputs": [
    {
     "data": {
      "text/html": [
       "<div>\n",
       "<style scoped>\n",
       "    .dataframe tbody tr th:only-of-type {\n",
       "        vertical-align: middle;\n",
       "    }\n",
       "\n",
       "    .dataframe tbody tr th {\n",
       "        vertical-align: top;\n",
       "    }\n",
       "\n",
       "    .dataframe thead th {\n",
       "        text-align: right;\n",
       "    }\n",
       "</style>\n",
       "<table border=\"1\" class=\"dataframe\">\n",
       "  <thead>\n",
       "    <tr style=\"text-align: right;\">\n",
       "      <th></th>\n",
       "      <th>0</th>\n",
       "    </tr>\n",
       "  </thead>\n",
       "  <tbody>\n",
       "    <tr>\n",
       "      <th>EXT_SOURCE_2</th>\n",
       "      <td>0.612363</td>\n",
       "    </tr>\n",
       "    <tr>\n",
       "      <th>EXT_SOURCE_3</th>\n",
       "      <td>0.584311</td>\n",
       "    </tr>\n",
       "    <tr>\n",
       "      <th>Age_Client</th>\n",
       "      <td>0.487552</td>\n",
       "    </tr>\n",
       "    <tr>\n",
       "      <th>DAYS_EMPLOYED</th>\n",
       "      <td>0.872057</td>\n",
       "    </tr>\n",
       "    <tr>\n",
       "      <th>AMT_GOODS_PRICE</th>\n",
       "      <td>0.125241</td>\n",
       "    </tr>\n",
       "    <tr>\n",
       "      <th>EXT_SOURCE_1</th>\n",
       "      <td>0.520847</td>\n",
       "    </tr>\n",
       "    <tr>\n",
       "      <th>DAYS_LAST_PHONE_CHANGE</th>\n",
       "      <td>0.772510</td>\n",
       "    </tr>\n",
       "    <tr>\n",
       "      <th>MOY_PREV_DAYS_DECISION</th>\n",
       "      <td>0.685592</td>\n",
       "    </tr>\n",
       "  </tbody>\n",
       "</table>\n",
       "</div>"
      ],
      "text/plain": [
       "                               0\n",
       "EXT_SOURCE_2            0.612363\n",
       "EXT_SOURCE_3            0.584311\n",
       "Age_Client              0.487552\n",
       "DAYS_EMPLOYED           0.872057\n",
       "AMT_GOODS_PRICE         0.125241\n",
       "EXT_SOURCE_1            0.520847\n",
       "DAYS_LAST_PHONE_CHANGE  0.772510\n",
       "MOY_PREV_DAYS_DECISION  0.685592"
      ]
     },
     "execution_count": 37,
     "metadata": {},
     "output_type": "execute_result"
    }
   ],
   "source": [
    "df_moyenne.T"
   ]
  },
  {
   "cell_type": "code",
   "execution_count": 38,
   "id": "ea018a5e",
   "metadata": {},
   "outputs": [],
   "source": [
    "df_moyenne_2 = df_moyenne.copy()"
   ]
  },
  {
   "cell_type": "code",
   "execution_count": 40,
   "id": "5fd420b2",
   "metadata": {},
   "outputs": [
    {
     "data": {
      "text/html": [
       "<div>\n",
       "<style scoped>\n",
       "    .dataframe tbody tr th:only-of-type {\n",
       "        vertical-align: middle;\n",
       "    }\n",
       "\n",
       "    .dataframe tbody tr th {\n",
       "        vertical-align: top;\n",
       "    }\n",
       "\n",
       "    .dataframe thead th {\n",
       "        text-align: right;\n",
       "    }\n",
       "</style>\n",
       "<table border=\"1\" class=\"dataframe\">\n",
       "  <thead>\n",
       "    <tr style=\"text-align: right;\">\n",
       "      <th></th>\n",
       "      <th>0</th>\n",
       "    </tr>\n",
       "  </thead>\n",
       "  <tbody>\n",
       "    <tr>\n",
       "      <th>EXT_SOURCE_2</th>\n",
       "      <td>0.612363</td>\n",
       "    </tr>\n",
       "    <tr>\n",
       "      <th>EXT_SOURCE_3</th>\n",
       "      <td>0.584311</td>\n",
       "    </tr>\n",
       "    <tr>\n",
       "      <th>Age_Client</th>\n",
       "      <td>0.487552</td>\n",
       "    </tr>\n",
       "    <tr>\n",
       "      <th>DAYS_EMPLOYED</th>\n",
       "      <td>0.872057</td>\n",
       "    </tr>\n",
       "    <tr>\n",
       "      <th>AMT_GOODS_PRICE</th>\n",
       "      <td>0.125241</td>\n",
       "    </tr>\n",
       "    <tr>\n",
       "      <th>EXT_SOURCE_1</th>\n",
       "      <td>0.520847</td>\n",
       "    </tr>\n",
       "    <tr>\n",
       "      <th>DAYS_LAST_PHONE_CHANGE</th>\n",
       "      <td>0.772510</td>\n",
       "    </tr>\n",
       "    <tr>\n",
       "      <th>MOY_PREV_DAYS_DECISION</th>\n",
       "      <td>0.685592</td>\n",
       "    </tr>\n",
       "  </tbody>\n",
       "</table>\n",
       "</div>"
      ],
      "text/plain": [
       "                               0\n",
       "EXT_SOURCE_2            0.612363\n",
       "EXT_SOURCE_3            0.584311\n",
       "Age_Client              0.487552\n",
       "DAYS_EMPLOYED           0.872057\n",
       "AMT_GOODS_PRICE         0.125241\n",
       "EXT_SOURCE_1            0.520847\n",
       "DAYS_LAST_PHONE_CHANGE  0.772510\n",
       "MOY_PREV_DAYS_DECISION  0.685592"
      ]
     },
     "execution_count": 40,
     "metadata": {},
     "output_type": "execute_result"
    }
   ],
   "source": [
    "df_moyenne_2.T"
   ]
  },
  {
   "cell_type": "code",
   "execution_count": 47,
   "id": "b9e91cf5",
   "metadata": {},
   "outputs": [
    {
     "ename": "TypeError",
     "evalue": "first argument must be an iterable of pandas objects, you passed an object of type \"DataFrame\"",
     "output_type": "error",
     "traceback": [
      "\u001b[1;31m---------------------------------------------------------------------------\u001b[0m",
      "\u001b[1;31mTypeError\u001b[0m                                 Traceback (most recent call last)",
      "\u001b[1;32m~\\AppData\\Local\\Temp/ipykernel_15972/2545158589.py\u001b[0m in \u001b[0;36m<module>\u001b[1;34m\u001b[0m\n\u001b[1;32m----> 1\u001b[1;33m \u001b[0mpd\u001b[0m\u001b[1;33m.\u001b[0m\u001b[0mconcat\u001b[0m\u001b[1;33m(\u001b[0m\u001b[0mdf_moyenne\u001b[0m\u001b[1;33m,\u001b[0m \u001b[0mdf_moyenne_2\u001b[0m\u001b[1;33m)\u001b[0m\u001b[1;33m\u001b[0m\u001b[1;33m\u001b[0m\u001b[0m\n\u001b[0m",
      "\u001b[1;32m~\\anaconda3\\lib\\site-packages\\pandas\\util\\_decorators.py\u001b[0m in \u001b[0;36mwrapper\u001b[1;34m(*args, **kwargs)\u001b[0m\n\u001b[0;32m    309\u001b[0m                     \u001b[0mstacklevel\u001b[0m\u001b[1;33m=\u001b[0m\u001b[0mstacklevel\u001b[0m\u001b[1;33m,\u001b[0m\u001b[1;33m\u001b[0m\u001b[1;33m\u001b[0m\u001b[0m\n\u001b[0;32m    310\u001b[0m                 )\n\u001b[1;32m--> 311\u001b[1;33m             \u001b[1;32mreturn\u001b[0m \u001b[0mfunc\u001b[0m\u001b[1;33m(\u001b[0m\u001b[1;33m*\u001b[0m\u001b[0margs\u001b[0m\u001b[1;33m,\u001b[0m \u001b[1;33m**\u001b[0m\u001b[0mkwargs\u001b[0m\u001b[1;33m)\u001b[0m\u001b[1;33m\u001b[0m\u001b[1;33m\u001b[0m\u001b[0m\n\u001b[0m\u001b[0;32m    312\u001b[0m \u001b[1;33m\u001b[0m\u001b[0m\n\u001b[0;32m    313\u001b[0m         \u001b[1;32mreturn\u001b[0m \u001b[0mwrapper\u001b[0m\u001b[1;33m\u001b[0m\u001b[1;33m\u001b[0m\u001b[0m\n",
      "\u001b[1;32m~\\anaconda3\\lib\\site-packages\\pandas\\core\\reshape\\concat.py\u001b[0m in \u001b[0;36mconcat\u001b[1;34m(objs, axis, join, ignore_index, keys, levels, names, verify_integrity, sort, copy)\u001b[0m\n\u001b[0;32m    292\u001b[0m     \u001b[0mValueError\u001b[0m\u001b[1;33m:\u001b[0m \u001b[0mIndexes\u001b[0m \u001b[0mhave\u001b[0m \u001b[0moverlapping\u001b[0m \u001b[0mvalues\u001b[0m\u001b[1;33m:\u001b[0m \u001b[1;33m[\u001b[0m\u001b[1;34m'a'\u001b[0m\u001b[1;33m]\u001b[0m\u001b[1;33m\u001b[0m\u001b[1;33m\u001b[0m\u001b[0m\n\u001b[0;32m    293\u001b[0m     \"\"\"\n\u001b[1;32m--> 294\u001b[1;33m     op = _Concatenator(\n\u001b[0m\u001b[0;32m    295\u001b[0m         \u001b[0mobjs\u001b[0m\u001b[1;33m,\u001b[0m\u001b[1;33m\u001b[0m\u001b[1;33m\u001b[0m\u001b[0m\n\u001b[0;32m    296\u001b[0m         \u001b[0maxis\u001b[0m\u001b[1;33m=\u001b[0m\u001b[0maxis\u001b[0m\u001b[1;33m,\u001b[0m\u001b[1;33m\u001b[0m\u001b[1;33m\u001b[0m\u001b[0m\n",
      "\u001b[1;32m~\\anaconda3\\lib\\site-packages\\pandas\\core\\reshape\\concat.py\u001b[0m in \u001b[0;36m__init__\u001b[1;34m(self, objs, axis, join, keys, levels, names, ignore_index, verify_integrity, copy, sort)\u001b[0m\n\u001b[0;32m    327\u001b[0m     ):\n\u001b[0;32m    328\u001b[0m         \u001b[1;32mif\u001b[0m \u001b[0misinstance\u001b[0m\u001b[1;33m(\u001b[0m\u001b[0mobjs\u001b[0m\u001b[1;33m,\u001b[0m \u001b[1;33m(\u001b[0m\u001b[0mABCSeries\u001b[0m\u001b[1;33m,\u001b[0m \u001b[0mABCDataFrame\u001b[0m\u001b[1;33m,\u001b[0m \u001b[0mstr\u001b[0m\u001b[1;33m)\u001b[0m\u001b[1;33m)\u001b[0m\u001b[1;33m:\u001b[0m\u001b[1;33m\u001b[0m\u001b[1;33m\u001b[0m\u001b[0m\n\u001b[1;32m--> 329\u001b[1;33m             raise TypeError(\n\u001b[0m\u001b[0;32m    330\u001b[0m                 \u001b[1;34m\"first argument must be an iterable of pandas \"\u001b[0m\u001b[1;33m\u001b[0m\u001b[1;33m\u001b[0m\u001b[0m\n\u001b[0;32m    331\u001b[0m                 \u001b[1;34mf'objects, you passed an object of type \"{type(objs).__name__}\"'\u001b[0m\u001b[1;33m\u001b[0m\u001b[1;33m\u001b[0m\u001b[0m\n",
      "\u001b[1;31mTypeError\u001b[0m: first argument must be an iterable of pandas objects, you passed an object of type \"DataFrame\""
     ]
    }
   ],
   "source": [
    "pd.concat(df_moyenne, df_moyenne_2)"
   ]
  },
  {
   "cell_type": "code",
   "execution_count": 48,
   "id": "d0906eb7",
   "metadata": {},
   "outputs": [
    {
     "data": {
      "text/plain": [
       "EXT_SOURCE_2              0.612363\n",
       "EXT_SOURCE_3              0.584311\n",
       "Age_Client                0.487552\n",
       "DAYS_EMPLOYED             0.872057\n",
       "AMT_GOODS_PRICE           0.125241\n",
       "EXT_SOURCE_1              0.520847\n",
       "DAYS_LAST_PHONE_CHANGE    0.772510\n",
       "MOY_PREV_DAYS_DECISION    0.685592\n",
       "Name: 0, dtype: float64"
      ]
     },
     "execution_count": 48,
     "metadata": {},
     "output_type": "execute_result"
    }
   ],
   "source": [
    "df_moyenne_2.iloc[0]"
   ]
  },
  {
   "cell_type": "code",
   "execution_count": 50,
   "id": "c9d5e039",
   "metadata": {},
   "outputs": [],
   "source": [
    "df3 =df_moyenne.append(df_moyenne_2.iloc[0])"
   ]
  },
  {
   "cell_type": "code",
   "execution_count": 52,
   "id": "6e2f4e35",
   "metadata": {},
   "outputs": [
    {
     "data": {
      "text/html": [
       "<div>\n",
       "<style scoped>\n",
       "    .dataframe tbody tr th:only-of-type {\n",
       "        vertical-align: middle;\n",
       "    }\n",
       "\n",
       "    .dataframe tbody tr th {\n",
       "        vertical-align: top;\n",
       "    }\n",
       "\n",
       "    .dataframe thead th {\n",
       "        text-align: right;\n",
       "    }\n",
       "</style>\n",
       "<table border=\"1\" class=\"dataframe\">\n",
       "  <thead>\n",
       "    <tr style=\"text-align: right;\">\n",
       "      <th></th>\n",
       "      <th>EXT_SOURCE_2</th>\n",
       "      <th>EXT_SOURCE_3</th>\n",
       "      <th>Age_Client</th>\n",
       "      <th>DAYS_EMPLOYED</th>\n",
       "      <th>AMT_GOODS_PRICE</th>\n",
       "      <th>EXT_SOURCE_1</th>\n",
       "      <th>DAYS_LAST_PHONE_CHANGE</th>\n",
       "      <th>MOY_PREV_DAYS_DECISION</th>\n",
       "    </tr>\n",
       "  </thead>\n",
       "  <tbody>\n",
       "    <tr>\n",
       "      <th>0</th>\n",
       "      <td>0.612363</td>\n",
       "      <td>0.584311</td>\n",
       "      <td>0.487552</td>\n",
       "      <td>0.872057</td>\n",
       "      <td>0.125241</td>\n",
       "      <td>0.520847</td>\n",
       "      <td>0.77251</td>\n",
       "      <td>0.685592</td>\n",
       "    </tr>\n",
       "    <tr>\n",
       "      <th>0</th>\n",
       "      <td>0.612363</td>\n",
       "      <td>0.584311</td>\n",
       "      <td>0.487552</td>\n",
       "      <td>0.872057</td>\n",
       "      <td>0.125241</td>\n",
       "      <td>0.520847</td>\n",
       "      <td>0.77251</td>\n",
       "      <td>0.685592</td>\n",
       "    </tr>\n",
       "  </tbody>\n",
       "</table>\n",
       "</div>"
      ],
      "text/plain": [
       "   EXT_SOURCE_2  EXT_SOURCE_3  Age_Client  DAYS_EMPLOYED  AMT_GOODS_PRICE  \\\n",
       "0      0.612363      0.584311    0.487552       0.872057         0.125241   \n",
       "0      0.612363      0.584311    0.487552       0.872057         0.125241   \n",
       "\n",
       "   EXT_SOURCE_1  DAYS_LAST_PHONE_CHANGE  MOY_PREV_DAYS_DECISION  \n",
       "0      0.520847                 0.77251                0.685592  \n",
       "0      0.520847                 0.77251                0.685592  "
      ]
     },
     "execution_count": 52,
     "metadata": {},
     "output_type": "execute_result"
    }
   ],
   "source": [
    "df3.head()"
   ]
  },
  {
   "cell_type": "code",
   "execution_count": 53,
   "id": "0c629831",
   "metadata": {},
   "outputs": [
    {
     "data": {
      "text/html": [
       "<div>\n",
       "<style scoped>\n",
       "    .dataframe tbody tr th:only-of-type {\n",
       "        vertical-align: middle;\n",
       "    }\n",
       "\n",
       "    .dataframe tbody tr th {\n",
       "        vertical-align: top;\n",
       "    }\n",
       "\n",
       "    .dataframe thead th {\n",
       "        text-align: right;\n",
       "    }\n",
       "</style>\n",
       "<table border=\"1\" class=\"dataframe\">\n",
       "  <thead>\n",
       "    <tr style=\"text-align: right;\">\n",
       "      <th></th>\n",
       "      <th>index</th>\n",
       "      <th>EXT_SOURCE_2</th>\n",
       "      <th>EXT_SOURCE_3</th>\n",
       "      <th>Age_Client</th>\n",
       "      <th>DAYS_EMPLOYED</th>\n",
       "      <th>AMT_GOODS_PRICE</th>\n",
       "      <th>EXT_SOURCE_1</th>\n",
       "      <th>DAYS_LAST_PHONE_CHANGE</th>\n",
       "      <th>MOY_PREV_DAYS_DECISION</th>\n",
       "    </tr>\n",
       "  </thead>\n",
       "  <tbody>\n",
       "    <tr>\n",
       "      <th>0</th>\n",
       "      <td>0</td>\n",
       "      <td>0.612363</td>\n",
       "      <td>0.584311</td>\n",
       "      <td>0.487552</td>\n",
       "      <td>0.872057</td>\n",
       "      <td>0.125241</td>\n",
       "      <td>0.520847</td>\n",
       "      <td>0.77251</td>\n",
       "      <td>0.685592</td>\n",
       "    </tr>\n",
       "    <tr>\n",
       "      <th>1</th>\n",
       "      <td>0</td>\n",
       "      <td>0.612363</td>\n",
       "      <td>0.584311</td>\n",
       "      <td>0.487552</td>\n",
       "      <td>0.872057</td>\n",
       "      <td>0.125241</td>\n",
       "      <td>0.520847</td>\n",
       "      <td>0.77251</td>\n",
       "      <td>0.685592</td>\n",
       "    </tr>\n",
       "  </tbody>\n",
       "</table>\n",
       "</div>"
      ],
      "text/plain": [
       "   index  EXT_SOURCE_2  EXT_SOURCE_3  Age_Client  DAYS_EMPLOYED  \\\n",
       "0      0      0.612363      0.584311    0.487552       0.872057   \n",
       "1      0      0.612363      0.584311    0.487552       0.872057   \n",
       "\n",
       "   AMT_GOODS_PRICE  EXT_SOURCE_1  DAYS_LAST_PHONE_CHANGE  \\\n",
       "0         0.125241      0.520847                 0.77251   \n",
       "1         0.125241      0.520847                 0.77251   \n",
       "\n",
       "   MOY_PREV_DAYS_DECISION  \n",
       "0                0.685592  \n",
       "1                0.685592  "
      ]
     },
     "execution_count": 53,
     "metadata": {},
     "output_type": "execute_result"
    }
   ],
   "source": [
    "df3.reset_index()"
   ]
  },
  {
   "cell_type": "code",
   "execution_count": 41,
   "id": "f3832b09",
   "metadata": {},
   "outputs": [
    {
     "ename": "ValueError",
     "evalue": "columns overlap but no suffix specified: Int64Index([0], dtype='int64')",
     "output_type": "error",
     "traceback": [
      "\u001b[1;31m---------------------------------------------------------------------------\u001b[0m",
      "\u001b[1;31mValueError\u001b[0m                                Traceback (most recent call last)",
      "\u001b[1;32m~\\AppData\\Local\\Temp/ipykernel_15972/3928059885.py\u001b[0m in \u001b[0;36m<module>\u001b[1;34m\u001b[0m\n\u001b[1;32m----> 1\u001b[1;33m \u001b[0mdf_moyenne\u001b[0m\u001b[1;33m.\u001b[0m\u001b[0mT\u001b[0m\u001b[1;33m.\u001b[0m\u001b[0mjoin\u001b[0m\u001b[1;33m(\u001b[0m\u001b[0mdf_moyenne_2\u001b[0m\u001b[1;33m.\u001b[0m\u001b[0mT\u001b[0m\u001b[1;33m)\u001b[0m\u001b[1;33m\u001b[0m\u001b[1;33m\u001b[0m\u001b[0m\n\u001b[0m",
      "\u001b[1;32m~\\anaconda3\\lib\\site-packages\\pandas\\core\\frame.py\u001b[0m in \u001b[0;36mjoin\u001b[1;34m(self, other, on, how, lsuffix, rsuffix, sort)\u001b[0m\n\u001b[0;32m   9097\u001b[0m         \u001b[1;36m5\u001b[0m  \u001b[0mK5\u001b[0m  \u001b[0mA5\u001b[0m  \u001b[0mNaN\u001b[0m\u001b[1;33m\u001b[0m\u001b[1;33m\u001b[0m\u001b[0m\n\u001b[0;32m   9098\u001b[0m         \"\"\"\n\u001b[1;32m-> 9099\u001b[1;33m         return self._join_compat(\n\u001b[0m\u001b[0;32m   9100\u001b[0m             \u001b[0mother\u001b[0m\u001b[1;33m,\u001b[0m \u001b[0mon\u001b[0m\u001b[1;33m=\u001b[0m\u001b[0mon\u001b[0m\u001b[1;33m,\u001b[0m \u001b[0mhow\u001b[0m\u001b[1;33m=\u001b[0m\u001b[0mhow\u001b[0m\u001b[1;33m,\u001b[0m \u001b[0mlsuffix\u001b[0m\u001b[1;33m=\u001b[0m\u001b[0mlsuffix\u001b[0m\u001b[1;33m,\u001b[0m \u001b[0mrsuffix\u001b[0m\u001b[1;33m=\u001b[0m\u001b[0mrsuffix\u001b[0m\u001b[1;33m,\u001b[0m \u001b[0msort\u001b[0m\u001b[1;33m=\u001b[0m\u001b[0msort\u001b[0m\u001b[1;33m\u001b[0m\u001b[1;33m\u001b[0m\u001b[0m\n\u001b[0;32m   9101\u001b[0m         )\n",
      "\u001b[1;32m~\\anaconda3\\lib\\site-packages\\pandas\\core\\frame.py\u001b[0m in \u001b[0;36m_join_compat\u001b[1;34m(self, other, on, how, lsuffix, rsuffix, sort)\u001b[0m\n\u001b[0;32m   9128\u001b[0m                     \u001b[0msort\u001b[0m\u001b[1;33m=\u001b[0m\u001b[0msort\u001b[0m\u001b[1;33m,\u001b[0m\u001b[1;33m\u001b[0m\u001b[1;33m\u001b[0m\u001b[0m\n\u001b[0;32m   9129\u001b[0m                 )\n\u001b[1;32m-> 9130\u001b[1;33m             return merge(\n\u001b[0m\u001b[0;32m   9131\u001b[0m                 \u001b[0mself\u001b[0m\u001b[1;33m,\u001b[0m\u001b[1;33m\u001b[0m\u001b[1;33m\u001b[0m\u001b[0m\n\u001b[0;32m   9132\u001b[0m                 \u001b[0mother\u001b[0m\u001b[1;33m,\u001b[0m\u001b[1;33m\u001b[0m\u001b[1;33m\u001b[0m\u001b[0m\n",
      "\u001b[1;32m~\\anaconda3\\lib\\site-packages\\pandas\\core\\reshape\\merge.py\u001b[0m in \u001b[0;36mmerge\u001b[1;34m(left, right, how, on, left_on, right_on, left_index, right_index, sort, suffixes, copy, indicator, validate)\u001b[0m\n\u001b[0;32m    119\u001b[0m         \u001b[0mvalidate\u001b[0m\u001b[1;33m=\u001b[0m\u001b[0mvalidate\u001b[0m\u001b[1;33m,\u001b[0m\u001b[1;33m\u001b[0m\u001b[1;33m\u001b[0m\u001b[0m\n\u001b[0;32m    120\u001b[0m     )\n\u001b[1;32m--> 121\u001b[1;33m     \u001b[1;32mreturn\u001b[0m \u001b[0mop\u001b[0m\u001b[1;33m.\u001b[0m\u001b[0mget_result\u001b[0m\u001b[1;33m(\u001b[0m\u001b[1;33m)\u001b[0m\u001b[1;33m\u001b[0m\u001b[1;33m\u001b[0m\u001b[0m\n\u001b[0m\u001b[0;32m    122\u001b[0m \u001b[1;33m\u001b[0m\u001b[0m\n\u001b[0;32m    123\u001b[0m \u001b[1;33m\u001b[0m\u001b[0m\n",
      "\u001b[1;32m~\\anaconda3\\lib\\site-packages\\pandas\\core\\reshape\\merge.py\u001b[0m in \u001b[0;36mget_result\u001b[1;34m(self)\u001b[0m\n\u001b[0;32m    715\u001b[0m         \u001b[0mjoin_index\u001b[0m\u001b[1;33m,\u001b[0m \u001b[0mleft_indexer\u001b[0m\u001b[1;33m,\u001b[0m \u001b[0mright_indexer\u001b[0m \u001b[1;33m=\u001b[0m \u001b[0mself\u001b[0m\u001b[1;33m.\u001b[0m\u001b[0m_get_join_info\u001b[0m\u001b[1;33m(\u001b[0m\u001b[1;33m)\u001b[0m\u001b[1;33m\u001b[0m\u001b[1;33m\u001b[0m\u001b[0m\n\u001b[0;32m    716\u001b[0m \u001b[1;33m\u001b[0m\u001b[0m\n\u001b[1;32m--> 717\u001b[1;33m         llabels, rlabels = _items_overlap_with_suffix(\n\u001b[0m\u001b[0;32m    718\u001b[0m             \u001b[0mself\u001b[0m\u001b[1;33m.\u001b[0m\u001b[0mleft\u001b[0m\u001b[1;33m.\u001b[0m\u001b[0m_info_axis\u001b[0m\u001b[1;33m,\u001b[0m \u001b[0mself\u001b[0m\u001b[1;33m.\u001b[0m\u001b[0mright\u001b[0m\u001b[1;33m.\u001b[0m\u001b[0m_info_axis\u001b[0m\u001b[1;33m,\u001b[0m \u001b[0mself\u001b[0m\u001b[1;33m.\u001b[0m\u001b[0msuffixes\u001b[0m\u001b[1;33m\u001b[0m\u001b[1;33m\u001b[0m\u001b[0m\n\u001b[0;32m    719\u001b[0m         )\n",
      "\u001b[1;32m~\\anaconda3\\lib\\site-packages\\pandas\\core\\reshape\\merge.py\u001b[0m in \u001b[0;36m_items_overlap_with_suffix\u001b[1;34m(left, right, suffixes)\u001b[0m\n\u001b[0;32m   2306\u001b[0m \u001b[1;33m\u001b[0m\u001b[0m\n\u001b[0;32m   2307\u001b[0m     \u001b[1;32mif\u001b[0m \u001b[1;32mnot\u001b[0m \u001b[0mlsuffix\u001b[0m \u001b[1;32mand\u001b[0m \u001b[1;32mnot\u001b[0m \u001b[0mrsuffix\u001b[0m\u001b[1;33m:\u001b[0m\u001b[1;33m\u001b[0m\u001b[1;33m\u001b[0m\u001b[0m\n\u001b[1;32m-> 2308\u001b[1;33m         \u001b[1;32mraise\u001b[0m \u001b[0mValueError\u001b[0m\u001b[1;33m(\u001b[0m\u001b[1;34mf\"columns overlap but no suffix specified: {to_rename}\"\u001b[0m\u001b[1;33m)\u001b[0m\u001b[1;33m\u001b[0m\u001b[1;33m\u001b[0m\u001b[0m\n\u001b[0m\u001b[0;32m   2309\u001b[0m \u001b[1;33m\u001b[0m\u001b[0m\n\u001b[0;32m   2310\u001b[0m     \u001b[1;32mdef\u001b[0m \u001b[0mrenamer\u001b[0m\u001b[1;33m(\u001b[0m\u001b[0mx\u001b[0m\u001b[1;33m,\u001b[0m \u001b[0msuffix\u001b[0m\u001b[1;33m)\u001b[0m\u001b[1;33m:\u001b[0m\u001b[1;33m\u001b[0m\u001b[1;33m\u001b[0m\u001b[0m\n",
      "\u001b[1;31mValueError\u001b[0m: columns overlap but no suffix specified: Int64Index([0], dtype='int64')"
     ]
    }
   ],
   "source": [
    "df_moyenne.T.join(df_moyenne_2.T)"
   ]
  },
  {
   "cell_type": "code",
   "execution_count": null,
   "id": "13d2cacc",
   "metadata": {},
   "outputs": [],
   "source": []
  },
  {
   "cell_type": "code",
   "execution_count": 22,
   "id": "2cd5038a",
   "metadata": {},
   "outputs": [],
   "source": [
    "for counter, col in enumerate(liste_variable_impact) :\n",
    "    df_moyennes[col] = liste_variable_impact_moyenne[counter]"
   ]
  },
  {
   "cell_type": "code",
   "execution_count": 24,
   "id": "131b1f34",
   "metadata": {},
   "outputs": [
    {
     "data": {
      "text/plain": [
       "0.6123628226573647"
      ]
     },
     "execution_count": 24,
     "metadata": {},
     "output_type": "execute_result"
    }
   ],
   "source": [
    "liste_variable_impact_moyenne[0]"
   ]
  },
  {
   "cell_type": "code",
   "execution_count": 25,
   "id": "bff7fa7a",
   "metadata": {},
   "outputs": [],
   "source": [
    "df_moyennes['EXT_SOURCE_2'] = liste_variable_impact_moyenne[0]"
   ]
  },
  {
   "cell_type": "code",
   "execution_count": 26,
   "id": "e8e5d2dd",
   "metadata": {},
   "outputs": [
    {
     "data": {
      "text/html": [
       "<div>\n",
       "<style scoped>\n",
       "    .dataframe tbody tr th:only-of-type {\n",
       "        vertical-align: middle;\n",
       "    }\n",
       "\n",
       "    .dataframe tbody tr th {\n",
       "        vertical-align: top;\n",
       "    }\n",
       "\n",
       "    .dataframe thead th {\n",
       "        text-align: right;\n",
       "    }\n",
       "</style>\n",
       "<table border=\"1\" class=\"dataframe\">\n",
       "  <thead>\n",
       "    <tr style=\"text-align: right;\">\n",
       "      <th></th>\n",
       "      <th>EXT_SOURCE_2</th>\n",
       "      <th>EXT_SOURCE_3</th>\n",
       "      <th>Age_Client</th>\n",
       "      <th>DAYS_EMPLOYED</th>\n",
       "      <th>AMT_GOODS_PRICE</th>\n",
       "      <th>EXT_SOURCE_1</th>\n",
       "      <th>DAYS_LAST_PHONE_CHANGE</th>\n",
       "      <th>MOY_PREV_DAYS_DECISION</th>\n",
       "    </tr>\n",
       "  </thead>\n",
       "  <tbody>\n",
       "  </tbody>\n",
       "</table>\n",
       "</div>"
      ],
      "text/plain": [
       "Empty DataFrame\n",
       "Columns: [EXT_SOURCE_2, EXT_SOURCE_3, Age_Client, DAYS_EMPLOYED, AMT_GOODS_PRICE, EXT_SOURCE_1, DAYS_LAST_PHONE_CHANGE, MOY_PREV_DAYS_DECISION]\n",
       "Index: []"
      ]
     },
     "execution_count": 26,
     "metadata": {},
     "output_type": "execute_result"
    }
   ],
   "source": [
    "df_moyennes"
   ]
  },
  {
   "cell_type": "code",
   "execution_count": null,
   "id": "a539dfdf",
   "metadata": {},
   "outputs": [],
   "source": []
  },
  {
   "cell_type": "code",
   "execution_count": null,
   "id": "1da238ec",
   "metadata": {},
   "outputs": [],
   "source": []
  },
  {
   "cell_type": "code",
   "execution_count": null,
   "id": "93401661",
   "metadata": {},
   "outputs": [],
   "source": []
  },
  {
   "cell_type": "code",
   "execution_count": null,
   "id": "1e84b209",
   "metadata": {},
   "outputs": [],
   "source": []
  },
  {
   "cell_type": "code",
   "execution_count": null,
   "id": "e2715ab2",
   "metadata": {},
   "outputs": [],
   "source": []
  },
  {
   "cell_type": "code",
   "execution_count": null,
   "id": "76d1f22c",
   "metadata": {},
   "outputs": [],
   "source": []
  }
 ],
 "metadata": {
  "kernelspec": {
   "display_name": "Python 3 (ipykernel)",
   "language": "python",
   "name": "python3"
  },
  "language_info": {
   "codemirror_mode": {
    "name": "ipython",
    "version": 3
   },
   "file_extension": ".py",
   "mimetype": "text/x-python",
   "name": "python",
   "nbconvert_exporter": "python",
   "pygments_lexer": "ipython3",
   "version": "3.9.7"
  }
 },
 "nbformat": 4,
 "nbformat_minor": 5
}
